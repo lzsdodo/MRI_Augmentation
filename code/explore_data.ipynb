{
 "cells": [
  {
   "cell_type": "code",
   "execution_count": null,
   "metadata": {},
   "outputs": [],
   "source": [
    "import numpy as np\n",
    "import os\n",
    "# from PIL import Image\n",
    "import matplotlib.pyplot as plt\n",
    "import nibabel as nib"
   ]
  },
  {
   "cell_type": "markdown",
   "metadata": {},
   "source": [
    "## Load Teammate's data and Plot"
   ]
  },
  {
   "cell_type": "markdown",
   "metadata": {},
   "source": [
    "### Processed data\n",
    "* each npy file is an array with [# of image, 2, 240, 240], concatenated with [6720, 2, 240,240] size."
   ]
  },
  {
   "cell_type": "code",
   "execution_count": null,
   "metadata": {},
   "outputs": [],
   "source": [
    "orig_path = './../dataset/orig'\n",
    "data_path = './../dataset/processed/temp'"
   ]
  },
  {
   "cell_type": "code",
   "execution_count": null,
   "metadata": {},
   "outputs": [],
   "source": [
    "data = []\n",
    "for f in os.listdir(data_path):\n",
    "    data.append(np.load(os.path.join(data_path, f)))\n",
    "\n",
    "data = np.concatenate(data, axis = 0)\n",
    "data.shape"
   ]
  },
  {
   "cell_type": "code",
   "execution_count": null,
   "metadata": {},
   "outputs": [],
   "source": [
    "resize_data = np.zeros((6720, 2, 256, 256))\n",
    "print(resize_data.shape)\n",
    "print(resize_data[0].shape)\n",
    "print(resize_data[0][0].shape)\n",
    "print(data[0][0][:5, :5])\n",
    "print(resize_data[0][0][:5, :5])\n",
    "\n",
    "# oimg = data[0]\n",
    "# rimg = resize_data[0]\n",
    "# print(oimg.shape, rimg.shape) \n",
    "# rimg[0].fill(oimg[0][0][0])\n",
    "# print(rimg[0])\n",
    "# rimg[0][8:248, 8:248] = oimg[0][:, :]\n",
    "\n",
    "for oimg, rimg in zip(data, resize_data):\n",
    "    # print(oimg.shape, rimg.shape) # (2, 240, 240) (2, 256, 256)\n",
    "    rimg[0].fill(oimg[0][0][0])\n",
    "    rimg[0][8:248, 8:248] = oimg[0][:, :]\n",
    "    rimg[1].fill(oimg[1][0][0])\n",
    "    rimg[1][8:248, 8:248] = oimg[1][:, :]"
   ]
  },
  {
   "cell_type": "code",
   "execution_count": null,
   "metadata": {},
   "outputs": [],
   "source": [
    "# 第一个slice的数据是\n",
    "print(data[0].shape)\n",
    "print(resize_data[0].shape)"
   ]
  },
  {
   "cell_type": "code",
   "execution_count": null,
   "metadata": {},
   "outputs": [],
   "source": [
    "print(data[0][0])\n",
    "print(resize_data[0][0])"
   ]
  },
  {
   "cell_type": "code",
   "execution_count": null,
   "metadata": {},
   "outputs": [],
   "source": [
    "print(data[0][1])\n",
    "print(resize_data[0][1])"
   ]
  },
  {
   "cell_type": "code",
   "execution_count": null,
   "metadata": {},
   "outputs": [],
   "source": [
    "# 对于[2, 240, 240] 的数据，第一维[240, 240]是原始图像\n",
    "plt.imshow(data[0][0], cmap = 'gray')"
   ]
  },
  {
   "cell_type": "code",
   "execution_count": null,
   "metadata": {},
   "outputs": [],
   "source": [
    "plt.imshow(resize_data[0][0], cmap = 'gray')"
   ]
  },
  {
   "cell_type": "code",
   "execution_count": null,
   "metadata": {},
   "outputs": [],
   "source": [
    "# 对于[2, 240, 240] 的数据，第二维[240, 240]是原始图像\n",
    "plt.imshow(data[0][1], cmap = 'gray')"
   ]
  },
  {
   "cell_type": "code",
   "execution_count": null,
   "metadata": {},
   "outputs": [],
   "source": [
    "plt.imshow(resize_data[0][1], cmap = 'gray')"
   ]
  },
  {
   "cell_type": "markdown",
   "metadata": {},
   "source": [
    "### Explore Original Segmentation data\n",
    "* shape: [240, 240, 48]"
   ]
  },
  {
   "cell_type": "code",
   "execution_count": null,
   "metadata": {},
   "outputs": [],
   "source": [
    "seg_data = nib.load(os.path.join(orig_path+'/1/segm.nii.gz')).get_fdata()\n",
    "seg_data.shape"
   ]
  },
  {
   "cell_type": "code",
   "execution_count": null,
   "metadata": {},
   "outputs": [],
   "source": [
    "plt.imshow(seg_data[:, :, 43])"
   ]
  },
  {
   "cell_type": "markdown",
   "metadata": {},
   "source": [
    "### Read original .nii.gz file"
   ]
  },
  {
   "cell_type": "markdown",
   "metadata": {},
   "source": [
    "#### Explore data "
   ]
  },
  {
   "cell_type": "code",
   "execution_count": null,
   "metadata": {},
   "outputs": [],
   "source": [
    "FLAIR = nib.load(os.path.join(orig_path+'/1/orig/FLAIR.nii.gz')).get_fdata()\n",
    "print('Shape', FLAIR.shape)\n",
    "plt.imshow(FLAIR[:,:,0])"
   ]
  },
  {
   "cell_type": "code",
   "execution_count": null,
   "metadata": {},
   "outputs": [],
   "source": [
    "reg_IR = nib.load(os.path.join(orig_path+'/1/orig/reg_IR.nii.gz')).get_fdata()\n",
    "print('Shape', reg_IR.shape)\n",
    "plt.imshow(reg_IR[:,:,0])"
   ]
  },
  {
   "cell_type": "code",
   "execution_count": null,
   "metadata": {},
   "outputs": [],
   "source": [
    "IR = nib.load(os.path.join(orig_path+'/1/orig/IR.nii.gz')).get_fdata()\n",
    "print('Shape', IR.shape)"
   ]
  },
  {
   "cell_type": "code",
   "execution_count": null,
   "metadata": {},
   "outputs": [],
   "source": [
    "reg_T1 = nib.load(os.path.join(orig_path+'/1/orig/reg_T1.nii.gz')).get_fdata()\n",
    "print('Shape', reg_T1.shape)\n",
    "plt.imshow(reg_T1[:, :, 20])"
   ]
  },
  {
   "cell_type": "code",
   "execution_count": null,
   "metadata": {},
   "outputs": [],
   "source": [
    "mask = nib.load(os.path.join(orig_path+'/1/segm.nii.gz')).get_fdata()\n",
    "mask.shape\n",
    "plt.imshow(mask[:, :, 20])"
   ]
  },
  {
   "cell_type": "markdown",
   "metadata": {},
   "source": [
    "## See segmentation in individual file"
   ]
  },
  {
   "cell_type": "code",
   "execution_count": 1,
   "metadata": {},
   "outputs": [],
   "source": [
    "import os\n",
    "import numpy as np\n",
    "import  matplotlib.pyplot as plt\n",
    "data_folder = '../dataset/processed/train/'\n",
    "i = 0"
   ]
  },
  {
   "cell_type": "code",
   "execution_count": 2,
   "metadata": {},
   "outputs": [
    {
     "name": "stdout",
     "output_type": "stream",
     "text": [
      "example name 5_t1_w2_39.npy\n"
     ]
    },
    {
     "data": {
      "image/png": "[encoded data removed]",
      "text/plain": [
       "<Figure size 432x288 with 1 Axes>"
      ]
     },
     "metadata": {},
     "output_type": "display_data"
    }
   ],
   "source": [
    "example = os.listdir(data_folder)[i]\n",
    "print('example name', example)\n",
    "seg = np.load(os.path.join(data_folder, example))\n",
    "plt.imshow(seg[1])\n",
    "i += 1"
   ]
  },
  {
   "cell_type": "code",
   "execution_count": 8,
   "metadata": {},
   "outputs": [
    {
     "data": {
      "text/plain": [
       "array([0, 1, 2, 3, 4, 5])"
      ]
     },
     "execution_count": 8,
     "metadata": {},
     "output_type": "execute_result"
    }
   ],
   "source": [
    "np.unique(seg[1].astype(int))"
   ]
  },
  {
   "cell_type": "code",
   "execution_count": 6,
   "metadata": {},
   "outputs": [
    {
     "data": {
      "text/plain": [
       "array([[0, 0, 0, ..., 0, 0, 0],\n",
       "       [0, 0, 0, ..., 0, 0, 0],\n",
       "       [0, 0, 0, ..., 0, 0, 0],\n",
       "       ...,\n",
       "       [0, 0, 0, ..., 0, 0, 0],\n",
       "       [0, 0, 0, ..., 0, 0, 0],\n",
       "       [0, 0, 0, ..., 0, 0, 0]])"
      ]
     },
     "execution_count": 6,
     "metadata": {},
     "output_type": "execute_result"
    }
   ],
   "source": []
  },
  {
   "cell_type": "code",
   "execution_count": null,
   "metadata": {},
   "outputs": [],
   "source": []
  }
 ],
 "metadata": {
  "kernelspec": {
   "display_name": "Python 3",
   "language": "python",
   "name": "python3"
  },
  "language_info": {
   "codemirror_mode": {
    "name": "ipython",
    "version": 3
   },
   "file_extension": ".py",
   "mimetype": "text/x-python",
   "name": "python",
   "nbconvert_exporter": "python",
   "pygments_lexer": "ipython3",
   "version": "3.6.5"
  }
 },
 "nbformat": 4,
 "nbformat_minor": 2
}
